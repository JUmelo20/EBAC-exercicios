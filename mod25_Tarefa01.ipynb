{
 "cells": [
  {
   "cell_type": "markdown",
   "metadata": {},
   "source": [
    "# Cálculo - Tarefa 01\n",
    "\n",
    "1. Marque quais desses métodos/algoritmos muito populares em ciência de dados são baseados no uso de derivada:\n",
    "\n",
    "    1. Método Mínimos Quadrados\n",
    "    2. Gradiente descendente\n",
    "    3. Newton Raphson\n",
    "    4. CART (Árvore de decisão)"
   ]
  },
  {
   "cell_type": "markdown",
   "metadata": {},
   "source": [
    "**Gradiente descendente:** É um algoritmo de otimização que utiliza a derivada da função objetivo para encontrar o mínimo local.\n",
    "\n",
    "**Newton Raphson:** É um método iterativo para encontrar raízes de uma equação que utiliza a derivada da função para aproximar a solução.\n",
    "\n",
    "**CART (Árvore de decisão):** Embora o CART em si não seja baseado explicitamente no uso de derivadas, durante o treinamento de uma árvore de decisão, é comum utilizar critérios de divisão, como o índice de impureza de Gini ou a entropia de Shannon, que dependem de derivadas parciais para calcular as mudanças na impureza ao dividir os dados em diferentes nós.\n",
    "\n",
    "O **Método Mínimos Quadrados** não é baseado no uso direto de derivadas, pois é um método estatístico que busca minimizar a soma dos quadrados dos resíduos entre os valores observados e os valores previstos. Ele não utiliza derivadas para encontrar a solução de forma direta. No entanto, é possível derivar as soluções analíticas para o problema dos mínimos quadrados, mas isso não é uma característica fundamental do método em si."
   ]
  },
  {
   "cell_type": "markdown",
   "metadata": {},
   "source": [
    "2. Dada uma base de dados com uma variável resposta $y$ e um conjunto de variáveis explicativas. Considere uma estrutura de um modelo de regressão. Explique com suas palavras por que não é possível obter parâmetros que forneçam um erro quadrático médio (EQM) menor que o obtido com estimadores de mínimos quadrados."
   ]
  },
  {
   "cell_type": "markdown",
   "metadata": {},
   "source": [
    "A impossibilidade de obter parâmetros que forneçam um erro quadrático médio (EQM) menor que o obtido com estimadores de mínimos quadrados está relacionada ao princípio da otimalidade dos estimadores de mínimos quadrados. Os estimadores de mínimos quadrados são obtidos através da minimização da soma dos quadrados dos resíduos entre os valores observados e os valores previstos pelo modelo.\n",
    "\n",
    "Em um modelo de regressão, os estimadores de mínimos quadrados são calculados de forma a encontrar os melhores coeficientes para as variáveis explicativas que minimizem a discrepância entre os valores observados e os valores previstos. Essa minimização é baseada na utilização da derivada da função de erro em relação aos parâmetros, igualando-a a zero para encontrar os valores ótimos.\n",
    "\n",
    "O princípio da otimalidade dos estimadores de mínimos quadrados estabelece que, sob certas suposições, os estimadores de mínimos quadrados são os mais eficientes, ou seja, possuem a menor variância entre todos os estimadores lineares não viesados. Isso implica que, mesmo que existam outros métodos de estimativa, não é possível encontrar parâmetros que resultem em um EQM menor do que o obtido com os estimadores de mínimos quadrados.\n",
    "\n",
    "Em resumo, a impossibilidade de obter um EQM menor do que o obtido com estimadores de mínimos quadrados está relacionada ao fato de que esses estimadores são ótimos em termos de eficiência, e qualquer outro método de estimativa não conseguirá superar essa eficiência em condições normais."
   ]
  },
  {
   "cell_type": "code",
   "execution_count": null,
   "metadata": {},
   "outputs": [],
   "source": []
  }
 ],
 "metadata": {
  "kernelspec": {
   "display_name": "Python 3",
   "language": "python",
   "name": "python3"
  },
  "language_info": {
   "codemirror_mode": {
    "name": "ipython",
    "version": 3
   },
   "file_extension": ".py",
   "mimetype": "text/x-python",
   "name": "python",
   "nbconvert_exporter": "python",
   "pygments_lexer": "ipython3",
   "version": "3.8.8"
  },
  "toc": {
   "base_numbering": 1,
   "nav_menu": {},
   "number_sections": true,
   "sideBar": true,
   "skip_h1_title": true,
   "title_cell": "Índice",
   "title_sidebar": "Conteúdo",
   "toc_cell": false,
   "toc_position": {},
   "toc_section_display": true,
   "toc_window_display": false
  },
  "varInspector": {
   "cols": {
    "lenName": 16,
    "lenType": 16,
    "lenVar": 40
   },
   "kernels_config": {
    "python": {
     "delete_cmd_postfix": "",
     "delete_cmd_prefix": "del ",
     "library": "var_list.py",
     "varRefreshCmd": "print(var_dic_list())"
    },
    "r": {
     "delete_cmd_postfix": ") ",
     "delete_cmd_prefix": "rm(",
     "library": "var_list.r",
     "varRefreshCmd": "cat(var_dic_list()) "
    }
   },
   "types_to_exclude": [
    "module",
    "function",
    "builtin_function_or_method",
    "instance",
    "_Feature"
   ],
   "window_display": false
  }
 },
 "nbformat": 4,
 "nbformat_minor": 4
}
