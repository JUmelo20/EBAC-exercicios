{
 "cells": [
  {
   "cell_type": "markdown",
   "metadata": {},
   "source": [
    "# Tarefa - Álgebra Linear\n",
    "\n",
    "A célula abaixo gera dados de notas de duas provas, p1 e p2, conforme em aula, mas com mais alunos.\n",
    "\n",
    "## 1. Reduzindo correlações\n",
    "\n",
    "a) Já vimos que expressar os dados através da média e diferença é uma transformação linear. Obtenha a média e a diferença através de uma multiplicação matricial, conforme visto em aula."
   ]
  },
  {
   "cell_type": "code",
   "execution_count": 1,
   "metadata": {},
   "outputs": [],
   "source": [
    "import pandas as pd\n",
    "import seaborn as sns\n",
    "import numpy as np\n",
    "import matplotlib.pyplot as plt\n",
    "\n",
    "%matplotlib inline\n",
    "\n",
    "# Gerando os dados\n",
    "np.random.seed(123)\n",
    "\n",
    "p1 = np.random.random(50) *10\n",
    "p1[p1>10] = 10\n",
    "p1[p1<0] = 0\n",
    "\n",
    "p2 = p1 + np.random.normal(0,1,50)\n",
    "p2[p2>10] = 10\n",
    "p2[p2<0] = 0\n",
    "\n",
    "df = pd.DataFrame({'p1': p1, 'p2': p2})"
   ]
  },
  {
   "cell_type": "code",
   "execution_count": 2,
   "metadata": {},
   "outputs": [
    {
     "name": "stdout",
     "output_type": "stream",
     "text": [
      "Média: [14.90811972  7.96093004  3.24294375  9.98750717 16.13309162  7.66406647\n",
      " 19.6449672  14.76591074 10.50934442  9.59723655  8.35920446 15.65038682\n",
      "  7.99873618  1.9884206   8.2751571  13.43364265  5.06713366  4.31627166\n",
      " 10.67651756 10.40345968 11.48971803 17.18815996 14.95754562 11.38931523\n",
      " 15.6110717   5.36197523  5.11267276  5.60499171  5.47091489 12.49349289\n",
      "  1.00458208  7.06806069  9.87249264  9.18483297 10.17755829  7.05253265\n",
      "  8.21226799 16.78188086 18.15073838  8.82421039 14.5661724   2.47680913\n",
      "  7.49591518  7.02917219 17.50721829  6.18696925  9.32567452 19.85559786\n",
      "  9.30513447 10.89441897]\n",
      "Diferença: [ 0.97873601  2.23814334 -1.29408532 -1.03878821  1.74371223 -0.79806274\n",
      "  0.02968323  1.06931597  0.89070639  1.75488618  1.49564414  1.06939267\n",
      " -0.77270871  0.79486267  0.31427199 -1.32626546  1.41729905  0.80723653\n",
      "  0.04549008 -0.23309206 -1.19830114  0.19952407  0.46843912 -0.83115498\n",
      "  1.16220405 -1.09720305 -2.12310035  1.03972709 -0.40336604 -0.12602959\n",
      " -0.83751672 -1.60596276  1.25523737 -0.68886898  1.66095249  0.80730819\n",
      " -0.31475815 -1.0859024  -0.73246199 -1.21252313  2.08711336  0.16444123\n",
      "  1.15020554 -1.26735205  0.18103513  1.17786194 -0.33501076  0.14440214\n",
      " -1.08456791 -1.36347154]\n"
     ]
    }
   ],
   "source": [
    "# Matriz de dados X\n",
    "X = df.values.T\n",
    "\n",
    "# Matriz de transformação A\n",
    "A = np.array([[1, 1], [-1, 1]])\n",
    "\n",
    "# Multiplicação matricial para obter média e diferença\n",
    "transformacao = np.dot(A, X)\n",
    "\n",
    "media = transformacao[0]\n",
    "diferenca = transformacao[1]\n",
    "\n",
    "print(\"Média:\", media)\n",
    "print(\"Diferença:\", diferenca)"
   ]
  },
  {
   "cell_type": "markdown",
   "metadata": {},
   "source": [
    "### b) Calcule a correlação entre os dados da p1 e p2"
   ]
  },
  {
   "cell_type": "code",
   "execution_count": 3,
   "metadata": {},
   "outputs": [
    {
     "name": "stdout",
     "output_type": "stream",
     "text": [
      "Correlação entre P1 e P2: 0.8957365818728046\n"
     ]
    }
   ],
   "source": [
    "correlacao_p1_p2 = np.corrcoef(X[0], X[1])[0, 1]\n",
    "print(\"Correlação entre P1 e P2:\", correlacao_p1_p2)\n"
   ]
  },
  {
   "cell_type": "markdown",
   "metadata": {},
   "source": [
    "### c) Calcule a correlação entre os dados transformados (média e diferença)"
   ]
  },
  {
   "cell_type": "code",
   "execution_count": 4,
   "metadata": {},
   "outputs": [
    {
     "name": "stdout",
     "output_type": "stream",
     "text": [
      "Correlação entre média e diferença: 0.13347385411788837\n"
     ]
    }
   ],
   "source": [
    "correlacao_media_diferenca = np.corrcoef(media, diferenca)[0, 1]\n",
    "print(\"Correlação entre média e diferença:\", correlacao_media_diferenca)\n"
   ]
  },
  {
   "cell_type": "markdown",
   "metadata": {},
   "source": [
    "### d) Comente as correlações observadas."
   ]
  },
  {
   "cell_type": "markdown",
   "metadata": {},
   "source": [
    "A correlação entre os dados da P1 e P2 é de aproximadamente 0.892, indicando uma correlação positiva moderada entre as notas das duas provas. Isso sugere que os alunos que obtiveram uma nota alta na P1 tendem a obter uma nota alta na P2 e vice-versa.\n",
    "\n",
    "A correlação entre a média e a diferença dos dados transformados é de aproximadamente 0.135, indicando uma correlação positiva muito baixa entre a média e a diferença. Embora a transformação linear tenha reduzido a correlação entre as provas, ainda há uma pequena relação entre a média e a diferença.\n",
    "\n",
    "Portanto, o comentário corrigido é que a transformação linear usando a média e a diferença reduziu a correlação entre as provas, mas não eliminou completamente a relação entre a média e a diferença."
   ]
  },
  {
   "cell_type": "markdown",
   "metadata": {},
   "source": [
    "## 2. Soma e diferença\n",
    "\n",
    "Realize agora uma transformação semelhante, mas que ao invés da média, dê a soma da **p1** e **p2**. Construa o gráfico e conclua que diferenças visuais você observa."
   ]
  },
  {
   "cell_type": "code",
   "execution_count": 5,
   "metadata": {},
   "outputs": [
    {
     "data": {
      "image/png": "[encoded data removed]",
      "text/plain": [
       "<Figure size 432x288 with 1 Axes>"
      ]
     },
     "metadata": {
      "needs_background": "light"
     },
     "output_type": "display_data"
    }
   ],
   "source": [
    "# Nova matriz de transformação A para soma e diferença\n",
    "A_soma = np.array([[1, 1], [1, -1]])\n",
    "\n",
    "# Multiplicação matricial para obter a soma e diferença\n",
    "transformacao_soma = np.dot(A_soma, X)\n",
    "\n",
    "soma = transformacao_soma[0]\n",
    "diferenca = transformacao_soma[1]\n",
    "\n",
    "# Plotando o gráfico\n",
    "plt.scatter(soma, diferenca)\n",
    "plt.xlabel('Soma')\n",
    "plt.ylabel('Diferença')\n",
    "plt.title('Transformação: Soma e Diferença')\n",
    "plt.grid(True)\n",
    "plt.show()\n"
   ]
  },
  {
   "cell_type": "code",
   "execution_count": null,
   "metadata": {},
   "outputs": [],
   "source": []
  }
 ],
 "metadata": {
  "kernelspec": {
   "display_name": "Python 3",
   "language": "python",
   "name": "python3"
  },
  "language_info": {
   "codemirror_mode": {
    "name": "ipython",
    "version": 3
   },
   "file_extension": ".py",
   "mimetype": "text/x-python",
   "name": "python",
   "nbconvert_exporter": "python",
   "pygments_lexer": "ipython3",
   "version": "3.8.8"
  },
  "toc": {
   "base_numbering": 1,
   "nav_menu": {},
   "number_sections": false,
   "sideBar": true,
   "skip_h1_title": false,
   "title_cell": "Índice",
   "title_sidebar": "Conteúdo",
   "toc_cell": false,
   "toc_position": {
    "height": "calc(100% - 180px)",
    "left": "10px",
    "top": "150px",
    "width": "257.6px"
   },
   "toc_section_display": true,
   "toc_window_display": false
  },
  "varInspector": {
   "cols": {
    "lenName": 16,
    "lenType": 16,
    "lenVar": 40
   },
   "kernels_config": {
    "python": {
     "delete_cmd_postfix": "",
     "delete_cmd_prefix": "del ",
     "library": "var_list.py",
     "varRefreshCmd": "print(var_dic_list())"
    },
    "r": {
     "delete_cmd_postfix": ") ",
     "delete_cmd_prefix": "rm(",
     "library": "var_list.r",
     "varRefreshCmd": "cat(var_dic_list()) "
    }
   },
   "types_to_exclude": [
    "module",
    "function",
    "builtin_function_or_method",
    "instance",
    "_Feature"
   ],
   "window_display": false
  }
 },
 "nbformat": 4,
 "nbformat_minor": 4
}
