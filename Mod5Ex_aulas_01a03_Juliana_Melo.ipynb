{
 "cells": [
  {
   "cell_type": "markdown",
   "metadata": {},
   "source": [
    "# Módulo 5 Tarefa 1\n",
    "## Base de nascidos vivos do DataSUS\n",
    "O DataSUS disponibiliza diversos arquivos de dados com relação a seus segurados, conforme a [lei da transparência de informações públicas](https://www.sisgov.com/transparencia-acesso-informacao/#:~:text=A%20Lei%20da%20Transpar%C3%AAncia%20(LC,em%20um%20site%20na%20internet.). \n",
    "\n",
    "Essas informações podem ser obtidas pela internet [aqui](http://www2.datasus.gov.br/DATASUS/index.php?area=0901&item=1). Como o processo de obtenção desses arquivos foge um pouco do nosso escopo, deixamos o arquivo ```SINASC_RO_2019.csv``` já como vai ser encontrado no DataSUS. O dicionário de dados está no arquivo ```estrutura_sinasc_para_CD.pdf``` (o nome do arquivo tal qual no portal do DataSUS).\n",
    "\n",
    "### Nosso objetivo\n",
    "Queremos deixar uma base organizada para podermos estudar a relação entre partos com risco para o bebê e algumas condições como tempo de parto, consultas de pré-natal etc.\n",
    "\n",
    "#### Preparação da base\n",
    "1. Carregue a base 'SINASC_RO_2019.csv'. Conte o número de registros e o número de registros não duplicados da base. Dica: você aprendeu um método que remove duplicados, encadeie este método com um outro método que conta o número de linhas. **Há linhas duplicadas?**  \n",
    "\n",
    "2. Conte o número de valores *missing* por variável.  \n",
    "\n",
    "3. Ok, no item anterior você deve ter achado pouco prático ler a informação de tantas variáveis, muitas delas nem devem ser interesantes. Então crie uma seleção dessa base somente com as colunas que interessam. São elas:\n",
    "``` \n",
    "['LOCNASC', 'IDADEMAE', 'ESTCIVMAE', 'ESCMAE', 'QTDFILVIVO', \n",
    "    'GESTACAO', 'GRAVIDEZ', 'CONSULTAS', 'APGAR5'] \n",
    "```\n",
    "Refaça a contagem de valores *missings*.  \n",
    "\n",
    "4. Apgar é uma *nota* que o pediatra dá ao bebê quando nasce de acordo com algumas características associadas principalmente à respiração. Apgar 1 e Apgar 5 são as notas 1 e 5 minutos do nascimento. Apgar5 será a nossa variável de interesse principal. Então remova todos os registros com Apgar5 não preenchido. Para esta seleção, conte novamente o número de linhas e o número de *missings*.  \n",
    "\n",
    "5. observe que as variáveis ```['ESTCIVMAE', 'CONSULTAS']``` possuem o código ```9```, que significa *ignorado*. Vamos assumir que o não preenchido é o mesmo que o código ```9```.<br>\n",
    "6. Substitua os valores faltantes da quantitativa (```QTDFILVIVO```) por zero.  \n",
    "7. Das restantes, decida que valore te parece mais adequado (um 'não preenchido' ou um valor 'mais provável' como no item anterior) e preencha. Justifique. Lembre-se de que tratamento de dados é trabalho do cientista, e que estamos tomando decisões a todo o momento - não há necessariamente certo e errado aqui.  \n",
    "8. O Apgar possui uma classificação indicando se o bebê passou por asfixia:\n",
    "- Entre 8 e 10 está em uma faixa 'normal'. \n",
    "- Entre 6 e 7, significa que o recém-nascido passou por 'asfixia leve'. \n",
    "- Entre 4 e 5 significa 'asfixia moderada'.\n",
    "- Entre 0 e 3 significa 'asfixia severa'.  \n",
    "\n",
    "Crie uma categorização dessa variável com essa codificação e calcule as frequências dessa categorização.  \n",
    "<br>\n",
    "9. Renomeie as variáveis para que fiquem no *snake case*, ou seja, em letras minúsculas, com um *underscore* entre as palávras. Dica: repare que se você não quiser criar um *dataframe* novo, você vai precisar usar a opção ```inplace = True```."
   ]
  },
  {
   "cell_type": "code",
   "execution_count": 2,
   "metadata": {},
   "outputs": [
    {
     "name": "stdout",
     "output_type": "stream",
     "text": [
      "(27028, 69)\n"
     ]
    },
    {
     "data": {
      "text/plain": [
       "(27028, 69)"
      ]
     },
     "execution_count": 2,
     "metadata": {},
     "output_type": "execute_result"
    }
   ],
   "source": [
    "import pandas as pd\n",
    "import requests\n",
    "\n",
    "# 1) seu código aqui\n",
    "sinasc = pd.read_csv('SINASC_RO_2019.csv')\n",
    "print(sinasc.shape)\n",
    "sinasc.drop_duplicates().shape"
   ]
  },
  {
   "cell_type": "code",
   "execution_count": 3,
   "metadata": {},
   "outputs": [
    {
     "data": {
      "text/plain": [
       "ORIGEM          0\n",
       "CODESTAB      115\n",
       "CODMUNNASC      0\n",
       "LOCNASC         0\n",
       "IDADEMAE        0\n",
       "             ... \n",
       "munResUf        0\n",
       "munResLat       1\n",
       "munResLon       1\n",
       "munResAlt       1\n",
       "munResArea      1\n",
       "Length: 69, dtype: int64"
      ]
     },
     "execution_count": 3,
     "metadata": {},
     "output_type": "execute_result"
    }
   ],
   "source": [
    "# 2) seu código aqui\n",
    "sinasc.isnull().sum()"
   ]
  },
  {
   "cell_type": "code",
   "execution_count": 4,
   "metadata": {},
   "outputs": [
    {
     "data": {
      "text/plain": [
       "LOCNASC          0\n",
       "IDADEMAE         0\n",
       "ESTCIVMAE      317\n",
       "ESCMAE         312\n",
       "QTDFILVIVO    1573\n",
       "GESTACAO      1232\n",
       "GRAVIDEZ        79\n",
       "CONSULTAS        0\n",
       "APGAR5         103\n",
       "dtype: int64"
      ]
     },
     "execution_count": 4,
     "metadata": {},
     "output_type": "execute_result"
    }
   ],
   "source": [
    "# 3) seu código aqui\n",
    "sinasc[['LOCNASC', 'IDADEMAE', 'ESTCIVMAE', 'ESCMAE', 'QTDFILVIVO', \n",
    " 'GESTACAO', 'GRAVIDEZ', 'CONSULTAS', 'APGAR5']].isna().sum()"
   ]
  },
  {
   "cell_type": "code",
   "execution_count": 5,
   "metadata": {},
   "outputs": [
    {
     "name": "stdout",
     "output_type": "stream",
     "text": [
      "(27028, 69)\n",
      "(26925, 69)\n",
      "0\n"
     ]
    }
   ],
   "source": [
    "# 4) seu código aqui\n",
    "print(sinasc.shape)\n",
    "sinasc.dropna(subset =['APGAR5'], inplace=True)\n",
    "print(sinasc.shape)\n",
    "print(sinasc['APGAR5'].isna().sum())"
   ]
  },
  {
   "cell_type": "code",
   "execution_count": 6,
   "metadata": {},
   "outputs": [
    {
     "name": "stdout",
     "output_type": "stream",
     "text": [
      "ESTCIVMAE    315\n",
      "CONSULTAS      0\n",
      "dtype: int64\n"
     ]
    },
    {
     "data": {
      "text/plain": [
       "0        5.0\n",
       "1        2.0\n",
       "2        9.0\n",
       "3        5.0\n",
       "4        2.0\n",
       "        ... \n",
       "27023    2.0\n",
       "27024    1.0\n",
       "27025    2.0\n",
       "27026    2.0\n",
       "27027    5.0\n",
       "Name: ESTCIVMAE, Length: 26925, dtype: float64"
      ]
     },
     "execution_count": 6,
     "metadata": {},
     "output_type": "execute_result"
    }
   ],
   "source": [
    "# 5) seu código aqui\n",
    "print(sinasc[['ESTCIVMAE', 'CONSULTAS']].isna().sum())\n",
    "sinasc['ESTCIVMAE'].fillna(9)"
   ]
  },
  {
   "cell_type": "code",
   "execution_count": 7,
   "metadata": {},
   "outputs": [
    {
     "data": {
      "text/plain": [
       "0        0.0\n",
       "1        1.0\n",
       "2        2.0\n",
       "3        0.0\n",
       "4        1.0\n",
       "        ... \n",
       "27023    1.0\n",
       "27024    0.0\n",
       "27025    0.0\n",
       "27026    1.0\n",
       "27027    1.0\n",
       "Name: QTDFILVIVO, Length: 26925, dtype: float64"
      ]
     },
     "execution_count": 7,
     "metadata": {},
     "output_type": "execute_result"
    }
   ],
   "source": [
    "# 6) Seu código aqui\n",
    "sinasc['QTDFILVIVO'].fillna(0)"
   ]
  },
  {
   "cell_type": "code",
   "execution_count": 8,
   "metadata": {},
   "outputs": [
    {
     "data": {
      "text/plain": [
       "<AxesSubplot:>"
      ]
     },
     "execution_count": 8,
     "metadata": {},
     "output_type": "execute_result"
    },
    {
     "data": {
      "image/png": "[encoded data removed]",
      "text/plain": [
       "<Figure size 1800x720 with 2 Axes>"
      ]
     },
     "metadata": {
      "needs_background": "light"
     },
     "output_type": "display_data"
    }
   ],
   "source": [
    "# 7) seu código aqui\n",
    "import missingno as msno\n",
    "msno.matrix(sinasc)"
   ]
  },
  {
   "cell_type": "code",
   "execution_count": 9,
   "metadata": {},
   "outputs": [
    {
     "name": "stdout",
     "output_type": "stream",
     "text": [
      "<class 'pandas.core.frame.DataFrame'>\n",
      "Int64Index: 26925 entries, 0 to 27027\n",
      "Data columns (total 69 columns):\n",
      " #   Column        Non-Null Count  Dtype  \n",
      "---  ------        --------------  -----  \n",
      " 0   ORIGEM        26925 non-null  int64  \n",
      " 1   CODESTAB      26859 non-null  float64\n",
      " 2   CODMUNNASC    26925 non-null  int64  \n",
      " 3   LOCNASC       26925 non-null  int64  \n",
      " 4   IDADEMAE      26925 non-null  int64  \n",
      " 5   ESTCIVMAE     26610 non-null  float64\n",
      " 6   ESCMAE        26615 non-null  object \n",
      " 7   CODOCUPMAE    24031 non-null  float64\n",
      " 8   QTDFILVIVO    25359 non-null  float64\n",
      " 9   QTDFILMORT    24836 non-null  float64\n",
      " 10  CODMUNRES     26925 non-null  int64  \n",
      " 11  GESTACAO      25709 non-null  object \n",
      " 12  GRAVIDEZ      26849 non-null  object \n",
      " 13  PARTO         26876 non-null  object \n",
      " 14  CONSULTAS     26925 non-null  int64  \n",
      " 15  DTNASC        26925 non-null  object \n",
      " 16  HORANASC      26904 non-null  float64\n",
      " 17  SEXO          26921 non-null  object \n",
      " 18  APGAR1        26921 non-null  float64\n",
      " 19  APGAR5        26925 non-null  float64\n",
      " 20  RACACOR       26286 non-null  object \n",
      " 21  PESO          26925 non-null  int64  \n",
      " 22  IDANOMAL      26345 non-null  float64\n",
      " 23  DTCADASTRO    26925 non-null  object \n",
      " 24  CODANOMAL     211 non-null    object \n",
      " 25  NUMEROLOTE    26925 non-null  int64  \n",
      " 26  VERSAOSIST    26925 non-null  object \n",
      " 27  DTRECEBIM     26925 non-null  object \n",
      " 28  DIFDATA       26925 non-null  int64  \n",
      " 29  DTRECORIGA    0 non-null      float64\n",
      " 30  NATURALMAE    26627 non-null  float64\n",
      " 31  CODMUNNATU    26627 non-null  float64\n",
      " 32  CODUFNATU     26627 non-null  float64\n",
      " 33  ESCMAE2010    26678 non-null  float64\n",
      " 34  SERIESCMAE    14261 non-null  float64\n",
      " 35  DTNASCMAE     26885 non-null  float64\n",
      " 36  RACACORMAE    26272 non-null  float64\n",
      " 37  QTDGESTANT    25718 non-null  float64\n",
      " 38  QTDPARTNOR    25053 non-null  float64\n",
      " 39  QTDPARTCES    25143 non-null  float64\n",
      " 40  IDADEPAI      7593 non-null   float64\n",
      " 41  DTULTMENST    16909 non-null  float64\n",
      " 42  SEMAGESTAC    25703 non-null  float64\n",
      " 43  TPMETESTIM    25703 non-null  float64\n",
      " 44  CONSPRENAT    26005 non-null  float64\n",
      " 45  MESPRENAT     24075 non-null  float64\n",
      " 46  TPAPRESENT    26664 non-null  float64\n",
      " 47  STTRABPART    25984 non-null  float64\n",
      " 48  STCESPARTO    26183 non-null  float64\n",
      " 49  TPNASCASSI    26864 non-null  float64\n",
      " 50  TPFUNCRESP    26858 non-null  float64\n",
      " 51  TPDOCRESP     26911 non-null  float64\n",
      " 52  DTDECLARAC    26873 non-null  float64\n",
      " 53  ESCMAEAGR1    26678 non-null  float64\n",
      " 54  STDNEPIDEM    26925 non-null  int64  \n",
      " 55  STDNNOVA      26925 non-null  int64  \n",
      " 56  CODPAISRES    26925 non-null  int64  \n",
      " 57  TPROBSON      26925 non-null  int64  \n",
      " 58  PARIDADE      26925 non-null  int64  \n",
      " 59  KOTELCHUCK    26925 non-null  int64  \n",
      " 60  CONTADOR      26925 non-null  int64  \n",
      " 61  munResStatus  26925 non-null  object \n",
      " 62  munResTipo    26925 non-null  object \n",
      " 63  munResNome    26925 non-null  object \n",
      " 64  munResUf      26925 non-null  object \n",
      " 65  munResLat     26924 non-null  float64\n",
      " 66  munResLon     26924 non-null  float64\n",
      " 67  munResAlt     26924 non-null  float64\n",
      " 68  munResArea    26924 non-null  float64\n",
      "dtypes: float64(38), int64(16), object(15)\n",
      "memory usage: 14.4+ MB\n"
     ]
    }
   ],
   "source": [
    "sinasc.info()"
   ]
  },
  {
   "cell_type": "code",
   "execution_count": 10,
   "metadata": {},
   "outputs": [],
   "source": [
    "for i in sinasc.columns:\n",
    "    sinasc[i] = sinasc[i].fillna(0)\n",
    "# levando em consideração que nesse caso a existência de missings podem configurar campos não preenchidos, os missings foram tratados sendo substituidos por zeros\n",
    "        "
   ]
  },
  {
   "cell_type": "code",
   "execution_count": 11,
   "metadata": {},
   "outputs": [
    {
     "data": {
      "text/plain": [
       "<AxesSubplot:>"
      ]
     },
     "execution_count": 11,
     "metadata": {},
     "output_type": "execute_result"
    },
    {
     "data": {
      "image/png": "[encoded data removed]",
      "text/plain": [
       "<Figure size 1800x720 with 2 Axes>"
      ]
     },
     "metadata": {
      "needs_background": "light"
     },
     "output_type": "display_data"
    }
   ],
   "source": [
    "msno.matrix(sinasc)"
   ]
  },
  {
   "cell_type": "code",
   "execution_count": 14,
   "metadata": {},
   "outputs": [],
   "source": [
    "# 8) seu código aqui\n",
    "sinasc['APGAR5'].replace({0:'asfixia severa', 1:'asfixia severa',2:'asfixia severa',3:'asfixia severa',4:'asfixia moderada', 5: 'asfixia moderada', 6: 'asfixia leve', 7: 'asfixia leve', 8: 'normal', 9: 'normal',10: 'normal'},inplace=True)"
   ]
  },
  {
   "cell_type": "code",
   "execution_count": 19,
   "metadata": {},
   "outputs": [
    {
     "data": {
      "text/plain": [
       "normal              26463\n",
       "asfixia leve          320\n",
       "asfixia severa         74\n",
       "asfixia moderada       68\n",
       "Name: APGAR5, dtype: int64"
      ]
     },
     "execution_count": 19,
     "metadata": {},
     "output_type": "execute_result"
    }
   ],
   "source": [
    "sinasc['APGAR5'].value_counts()"
   ]
  },
  {
   "cell_type": "code",
   "execution_count": 21,
   "metadata": {},
   "outputs": [],
   "source": [
    "# 9) seu código aqui\n",
    "sinasc.rename(columns={'munResStatus':'mun_Res_Status', 'munResTipo':'mun_Res_Tipo', 'munResNome':'mun_Res_Nome',\n",
    "       'munResUf':'mun_Res_Uf', 'munResLat':'mun_Res_Lat', 'munResLon':'mun_Res_Lon', 'munResAlt':'mun_Res_Alt', 'munResArea':'mun_Res_Area'},inplace=True)\n",
    "\n",
    "    "
   ]
  },
  {
   "cell_type": "code",
   "execution_count": 23,
   "metadata": {},
   "outputs": [
    {
     "name": "stdout",
     "output_type": "stream",
     "text": [
      "<class 'pandas.core.frame.DataFrame'>\n",
      "Int64Index: 26925 entries, 0 to 27027\n",
      "Data columns (total 69 columns):\n",
      " #   Column          Non-Null Count  Dtype  \n",
      "---  ------          --------------  -----  \n",
      " 0   ORIGEM          26925 non-null  int64  \n",
      " 1   CODESTAB        26925 non-null  float64\n",
      " 2   CODMUNNASC      26925 non-null  int64  \n",
      " 3   LOCNASC         26925 non-null  int64  \n",
      " 4   IDADEMAE        26925 non-null  int64  \n",
      " 5   ESTCIVMAE       26925 non-null  float64\n",
      " 6   ESCMAE          26925 non-null  object \n",
      " 7   CODOCUPMAE      26925 non-null  float64\n",
      " 8   QTDFILVIVO      26925 non-null  float64\n",
      " 9   QTDFILMORT      26925 non-null  float64\n",
      " 10  CODMUNRES       26925 non-null  int64  \n",
      " 11  GESTACAO        26925 non-null  object \n",
      " 12  GRAVIDEZ        26925 non-null  object \n",
      " 13  PARTO           26925 non-null  object \n",
      " 14  CONSULTAS       26925 non-null  int64  \n",
      " 15  DTNASC          26925 non-null  object \n",
      " 16  HORANASC        26925 non-null  float64\n",
      " 17  SEXO            26925 non-null  object \n",
      " 18  APGAR1          26925 non-null  float64\n",
      " 19  APGAR5          26925 non-null  object \n",
      " 20  RACACOR         26925 non-null  object \n",
      " 21  PESO            26925 non-null  int64  \n",
      " 22  IDANOMAL        26925 non-null  float64\n",
      " 23  DTCADASTRO      26925 non-null  object \n",
      " 24  CODANOMAL       26925 non-null  object \n",
      " 25  NUMEROLOTE      26925 non-null  int64  \n",
      " 26  VERSAOSIST      26925 non-null  object \n",
      " 27  DTRECEBIM       26925 non-null  object \n",
      " 28  DIFDATA         26925 non-null  int64  \n",
      " 29  DTRECORIGA      26925 non-null  float64\n",
      " 30  NATURALMAE      26925 non-null  float64\n",
      " 31  CODMUNNATU      26925 non-null  float64\n",
      " 32  CODUFNATU       26925 non-null  float64\n",
      " 33  ESCMAE2010      26925 non-null  float64\n",
      " 34  SERIESCMAE      26925 non-null  float64\n",
      " 35  DTNASCMAE       26925 non-null  float64\n",
      " 36  RACACORMAE      26925 non-null  float64\n",
      " 37  QTDGESTANT      26925 non-null  float64\n",
      " 38  QTDPARTNOR      26925 non-null  float64\n",
      " 39  QTDPARTCES      26925 non-null  float64\n",
      " 40  IDADEPAI        26925 non-null  float64\n",
      " 41  DTULTMENST      26925 non-null  float64\n",
      " 42  SEMAGESTAC      26925 non-null  float64\n",
      " 43  TPMETESTIM      26925 non-null  float64\n",
      " 44  CONSPRENAT      26925 non-null  float64\n",
      " 45  MESPRENAT       26925 non-null  float64\n",
      " 46  TPAPRESENT      26925 non-null  float64\n",
      " 47  STTRABPART      26925 non-null  float64\n",
      " 48  STCESPARTO      26925 non-null  float64\n",
      " 49  TPNASCASSI      26925 non-null  float64\n",
      " 50  TPFUNCRESP      26925 non-null  float64\n",
      " 51  TPDOCRESP       26925 non-null  float64\n",
      " 52  DTDECLARAC      26925 non-null  float64\n",
      " 53  ESCMAEAGR1      26925 non-null  float64\n",
      " 54  STDNEPIDEM      26925 non-null  int64  \n",
      " 55  STDNNOVA        26925 non-null  int64  \n",
      " 56  CODPAISRES      26925 non-null  int64  \n",
      " 57  TPROBSON        26925 non-null  int64  \n",
      " 58  PARIDADE        26925 non-null  int64  \n",
      " 59  KOTELCHUCK      26925 non-null  int64  \n",
      " 60  CONTADOR        26925 non-null  int64  \n",
      " 61  mun_Res_Status  26925 non-null  object \n",
      " 62  mun_Res_Tipo    26925 non-null  object \n",
      " 63  mun_Res_Nome    26925 non-null  object \n",
      " 64  mun_Res_Uf      26925 non-null  object \n",
      " 65  mun_Res_Lat     26925 non-null  float64\n",
      " 66  mun_Res_Lon     26925 non-null  float64\n",
      " 67  mun_Res_Alt     26925 non-null  float64\n",
      " 68  mun_Res_Area    26925 non-null  float64\n",
      "dtypes: float64(37), int64(16), object(16)\n",
      "memory usage: 14.4+ MB\n"
     ]
    }
   ],
   "source": [
    "sinasc.info()"
   ]
  },
  {
   "cell_type": "code",
   "execution_count": null,
   "metadata": {},
   "outputs": [],
   "source": []
  }
 ],
 "metadata": {
  "kernelspec": {
   "display_name": "Python 3",
   "language": "python",
   "name": "python3"
  },
  "language_info": {
   "codemirror_mode": {
    "name": "ipython",
    "version": 3
   },
   "file_extension": ".py",
   "mimetype": "text/x-python",
   "name": "python",
   "nbconvert_exporter": "python",
   "pygments_lexer": "ipython3",
   "version": "3.8.8"
  }
 },
 "nbformat": 4,
 "nbformat_minor": 4
}
