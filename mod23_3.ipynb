{
 "cells": [
  {
   "cell_type": "markdown",
   "id": "c459893b-4ff0-4588-97e1-d7d254cfd421",
   "metadata": {},
   "source": [
    "## 1. Quais são os hyperparâmetros do RF?"
   ]
  },
  {
   "cell_type": "markdown",
   "id": "04de7859-d437-4c94-bed0-4b6a63e172af",
   "metadata": {},
   "source": [
    "**n_estimators:** Especifica o número de árvores na floresta. Um valor maior geralmente resulta em um melhor desempenho do modelo, mas também aumenta o tempo de treinamento e a capacidade computacional necessária.\n",
    "\n",
    "**criterion:** Define a métrica usada para medir a qualidade da divisão em cada nó da árvore. Os valores comuns são \"gini\" para o índice de Gini e \"entropy\" para a ganho de informação. Ambas as métricas visam maximizar a pureza das divisões.\n",
    "\n",
    "**max_depth:** Limita a profundidade máxima das árvores de decisão individuais. Restringir a profundidade pode ajudar a evitar overfitting, pois as árvores mais rasas são menos propensas a se ajustar excessivamente aos dados de treinamento.\n",
    "\n",
    "**min_samples_split:** Especifica o número mínimo de amostras necessárias para dividir um nó interno da árvore. Valores menores criam partições mais finas e podem levar a uma segmentação excessiva (overfitting), enquanto valores maiores podem resultar em árvores sub-ótima (underfitting).\n",
    "\n",
    "**min_samples_leaf:** Define o número mínimo de amostras requeridas em uma folha (nó terminal). Valores menores permitem folhas com apenas algumas amostras, o que pode levar a sobreajuste, enquanto valores maiores podem resultar em árvores com menos detalhes.\n",
    "\n",
    "**max_features**: Controla o número máximo de features consideradas em cada divisão de nó. Isso permite uma aleatoriedade adicional na seleção de features e ajuda a reduzir a correlação entre as árvores."
   ]
  },
  {
   "cell_type": "markdown",
   "id": "2fee1f3e-ab2a-45c4-8bfe-8c11fc2139c1",
   "metadata": {},
   "source": [
    "## 2. Pra que serve cada um deles?"
   ]
  },
  {
   "cell_type": "markdown",
   "id": "c1ff4c4e-26b6-4897-b41e-df8387b29b27",
   "metadata": {},
   "source": [
    "**n_estimators:** Determina a quantidade de árvores de decisão no conjunto. Um maior número de árvores pode melhorar a precisão do modelo, mas também aumenta o tempo de treinamento e a capacidade computacional necessária.\n",
    "\n",
    "**criterion:** Define a medida de qualidade usada para avaliar a qualidade de uma divisão em um nó. O índice de Gini (gini) e a entropia (entropy) são as opções mais comuns. Ambos medem a pureza das divisões com base na distribuição das classes.\n",
    "\n",
    "**max_depth:** Limita a profundidade máxima das árvores. Restringir a profundidade pode ajudar a evitar overfitting, permitindo que as árvores sejam menos complexas e mais generalizáveis.\n",
    "\n",
    "**min_samples_split:** Especifica o número mínimo de amostras necessárias para realizar uma divisão em um nó. Um valor maior evita divisões que resultem em partições muito pequenas e específicas, evitando overfitting.\n",
    "\n",
    "**min_samples_leaf:** Define o número mínimo de amostras necessárias para formar uma folha (nó terminal). Isso impede a criação de folhas com poucas amostras, o que pode levar a overfitting.\n",
    "\n",
    "**max_features:** Controla o número máximo de features a serem consideradas em cada divisão de nó. Isso introduz aleatoriedade na seleção de features e ajuda a reduzir a correlação entre as árvores.\n",
    "\n",
    "Cada hiperparâmetro desempenha um papel na determinação do comportamento e do desempenho do modelo Random Forest. A escolha adequada desses hiperparâmetros pode ajudar a evitar overfitting, melhorar a generalização do modelo e ajustá-lo às necessidades específicas do problema. É comum realizar uma busca de hiperparâmetros (por exemplo, usando a validação cruzada) para encontrar a combinação ótima que resulte no melhor desempenho do modelo."
   ]
  },
  {
   "cell_type": "code",
   "execution_count": null,
   "id": "d9c792fd-7f0d-4880-8c86-015ab97be56f",
   "metadata": {},
   "outputs": [],
   "source": []
  }
 ],
 "metadata": {
  "kernelspec": {
   "display_name": "Python 3",
   "language": "python",
   "name": "python3"
  },
  "language_info": {
   "codemirror_mode": {
    "name": "ipython",
    "version": 3
   },
   "file_extension": ".py",
   "mimetype": "text/x-python",
   "name": "python",
   "nbconvert_exporter": "python",
   "pygments_lexer": "ipython3",
   "version": "3.8.8"
  }
 },
 "nbformat": 4,
 "nbformat_minor": 5
}
