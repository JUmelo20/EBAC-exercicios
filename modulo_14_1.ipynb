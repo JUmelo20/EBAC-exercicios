{
 "cells": [
  {
   "cell_type": "code",
   "execution_count": 1,
   "id": "5949e013-8b93-40c4-9a07-0476da637d2f",
   "metadata": {},
   "outputs": [],
   "source": [
    "import numpy as np\n",
    "import pandas as pd\n",
    "import seaborn as sns\n",
    "import matplotlib.pyplot as plt"
   ]
  },
  {
   "cell_type": "code",
   "execution_count": 3,
   "id": "7ce71c0e-09b1-4d5d-b149-93de005f80dc",
   "metadata": {},
   "outputs": [],
   "source": [
    "import os\n",
    "import pandas as pd\n",
    "import matplotlib.pyplot as plt\n",
    "\n",
    "def plota_pivot_table(df, value, index, func, ylabel, xlabel, opcao='nada'):\n",
    "    if opcao == 'nada':\n",
    "        pd.pivot_table(df, values=value, index=index,\n",
    "                       aggfunc=func).plot(figsize=[15, 5])\n",
    "    elif opcao == 'sort':\n",
    "        pd.pivot_table(df, values=value, index=index,\n",
    "                       aggfunc=func).sort_values(value).plot(figsize=[15, 5])\n",
    "    elif opcao == 'unstack':\n",
    "        pd.pivot_table(df, values=value, index=index,\n",
    "                       aggfunc=func).unstack().plot(figsize=[15, 5])\n",
    "    plt.ylabel(ylabel)\n",
    "    plt.xlabel(xlabel)\n",
    "    return None\n",
    "\n",
    "\n",
    "input_dir = './input/'\n",
    "\n",
    "\n",
    "output_dir = './output/figs/'\n",
    "\n",
    "files = ['SINASC_RO_2019_MAR.csv', 'SINASC_RO_2019_ABR.csv', 'SINASC_RO_2019_MAI.csv','SINASC_RO_2019_JUN.csv','SINASC_RO_2019_DEZ.csv']\n",
    "\n",
    "for file in files:\n",
    "   \n",
    "    df = pd.read_csv(os.path.join(input_dir, file))\n",
    "    \n",
    "    \n",
    "    max_data = file.split('_')[-1].split('.')[0]\n",
    "    \n",
    "   \n",
    "    os.makedirs(os.path.join(output_dir, max_data), exist_ok=True)\n",
    "    \n",
    "    \n",
    "    plota_pivot_table(df, 'IDADEMAE', 'DTNASC', 'count', 'quantidade de nascimento', 'data de nascimento')\n",
    "    plt.savefig(os.path.join(output_dir, max_data, 'quantidade de nascimento.png'))\n",
    "    plt.close()\n",
    "    \n",
    "    plota_pivot_table(df, 'IDADEMAE', ['DTNASC', 'SEXO'], 'mean', 'media idade mae', 'data de nascimento', 'unstack')\n",
    "    plt.savefig(os.path.join(output_dir, max_data, 'media idade mae por sexo.png'))\n",
    "    plt.close()\n",
    "    \n",
    "    plota_pivot_table(df, 'PESO', ['DTNASC', 'SEXO'], 'mean', 'media peso bebe', 'data de nascimento', 'unstack')\n",
    "    plt.savefig(os.path.join(output_dir, max_data, 'media peso bebe por sexo.png'))\n",
    "    plt.close()\n",
    "    \n",
    "    plota_pivot_table(df, 'PESO', 'ESCMAE', 'median', 'apgar1 medio', 'gestacao', 'sort')\n",
    "    plt.savefig(os.path.join(output_dir, max_data, 'media apgar1 por escolaridade mae.png'))\n",
    "    plt.close()\n",
    "    \n",
    "    plota_pivot_table(df, 'APGAR1', 'GESTACAO', 'mean', 'apgar1 medio', 'gestacao', 'sort')\n",
    "    plt.savefig(os.path.join(output_dir, max_data, 'media apgar1 por gestacao.png'))\n",
    "    plt.close()\n",
    "    \n",
    "    plota_pivot_table(df, 'APGAR5', 'GESTACAO', 'mean', 'apgar5 medio', 'gestacao', 'sort')\n",
    "    plt.savefig(os.path.join(output_dir, max_data, 'media apgar5 por gestacao.png'))\n",
    "    plt.close()\n",
    "\n"
   ]
  },
  {
   "cell_type": "markdown",
   "id": "b140fe55-3ace-4094-af15-1ead1c0e6f7c",
   "metadata": {},
   "source": [
    "Atribui ao código um laço for que automatiza a geração dos gráficos, logo, para modificar ano ou mes basta alterar a lista com as bases."
   ]
  },
  {
   "cell_type": "code",
   "execution_count": null,
   "id": "255fc12a-dc55-4bf0-9a8c-07ad4bb3dc23",
   "metadata": {},
   "outputs": [],
   "source": []
  }
 ],
 "metadata": {
  "kernelspec": {
   "display_name": "Python 3",
   "language": "python",
   "name": "python3"
  },
  "language_info": {
   "codemirror_mode": {
    "name": "ipython",
    "version": 3
   },
   "file_extension": ".py",
   "mimetype": "text/x-python",
   "name": "python",
   "nbconvert_exporter": "python",
   "pygments_lexer": "ipython3",
   "version": "3.8.8"
  }
 },
 "nbformat": 4,
 "nbformat_minor": 5
}
