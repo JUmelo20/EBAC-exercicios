{
 "cells": [
  {
   "cell_type": "markdown",
   "metadata": {},
   "source": [
    "# Árvores II - Tarefa 2"
   ]
  },
  {
   "cell_type": "markdown",
   "metadata": {},
   "source": [
    "### 1. Carregar as bases\n",
    "\n",
    "Vamos carregar as bases lidas na tarefa passada. Se você salvou essas bases em arquivo texto, basta fazer a leitura com o comando ```pd.read_csv``` das seguintes bases:\n",
    "\n",
    "- X_train\n",
    "- Y_train\n",
    "- X_test\n",
    "- Y_test\n",
    "\n",
    "Não se esqueça de considerar a leitura dos índices dos arquivos no ```read_csv()```!"
   ]
  },
  {
   "cell_type": "code",
   "execution_count": 7,
   "metadata": {},
   "outputs": [],
   "source": [
    "import pandas as pd\n",
    "import seaborn as sns\n",
    "import matplotlib.pyplot as plt\n",
    "import numpy as np\n",
    "from sklearn.tree import DecisionTreeClassifier\n",
    "from sklearn.model_selection import train_test_split\n",
    "from sklearn.metrics import plot_confusion_matrix\n",
    "from sklearn.metrics import accuracy_score\n",
    "from sklearn.model_selection import GridSearchCV"
   ]
  },
  {
   "cell_type": "code",
   "execution_count": 3,
   "metadata": {},
   "outputs": [],
   "source": [
    "# Carregar a base X_train\n",
    "X_train = pd.read_csv('X_train_processed.csv', index_col=[0, 1])\n",
    "\n",
    "# Carregar a base y_train\n",
    "y_train = pd.read_csv('input mod 17/train/y_train.txt', header=None, names=['Activity'])\n",
    "\n",
    "# Carregar a base X_test\n",
    "X_test = pd.read_csv('X_test_processed.csv', index_col=[0, 1])\n",
    "\n",
    "# Carregar a base y_test\n",
    "y_test = pd.read_csv('input mod 17/test/y_test.txt', header=None, names=['Activity'])\n"
   ]
  },
  {
   "cell_type": "markdown",
   "metadata": {},
   "source": [
    "### 2. Divisão da base em Treino, Validação e Teste\n",
    "\n",
    "A base já se encontra dividida em Treino e Validação. O que vamos fazer então é extrair uma base de Validação da base de Treino.\n",
    "\n",
    "Extraia 25% da base de treino como base de validação."
   ]
  },
  {
   "cell_type": "code",
   "execution_count": 5,
   "metadata": {},
   "outputs": [],
   "source": [
    "# Dividir a base de treino em treino e validação\n",
    "X_train, X_val, y_train, y_val = train_test_split(X_train, y_train, test_size=0.25, random_state=42)\n"
   ]
  },
  {
   "cell_type": "markdown",
   "metadata": {},
   "source": [
    "### 3. Melhores 3 variáveis\n",
    "\n",
    "Rode uma árvore com profundidade máxima igual a 4 para prever a atividade humana com todas as variáveis.\n",
    "Observe a importância das variáveis e considere as 3 variáveis com maior importância para os próximos passos.\n",
    "Dica: utilize o atributo ```clf.feature_importances_``` da árvore treinada."
   ]
  },
  {
   "cell_type": "code",
   "execution_count": 6,
   "metadata": {},
   "outputs": [
    {
     "name": "stdout",
     "output_type": "stream",
     "text": [
      "Variável: 41 tGravityAcc-mean()-X, Importância: 0.28649987662995097\n",
      "Variável: 84 tBodyAccJerk-std()-X, Importância: 0.2552143482681539\n",
      "Variável: 42 tGravityAcc-mean()-Y, Importância: 0.16312343681954458\n"
     ]
    }
   ],
   "source": [
    "# Criar o classificador da árvore de decisão\n",
    "clf = DecisionTreeClassifier(max_depth=4, random_state=42)\n",
    "\n",
    "# Treinar a árvore de decisão com todas as variáveis\n",
    "clf.fit(X_train, y_train)\n",
    "\n",
    "# Obter a importância das variáveis\n",
    "importances = clf.feature_importances_\n",
    "\n",
    "# Criar uma lista com os nomes das variáveis\n",
    "feature_names = X_train.columns\n",
    "\n",
    "# Criar um dicionário para mapear as variáveis e suas importâncias\n",
    "importance_dict = dict(zip(feature_names, importances))\n",
    "\n",
    "# Ordenar as variáveis por importância (em ordem decrescente)\n",
    "sorted_importances = sorted(importance_dict.items(), key=lambda x: x[1], reverse=True)\n",
    "\n",
    "# Obter as três variáveis com maior importância\n",
    "top_3_variables = sorted_importances[:3]\n",
    "\n",
    "# Exibir as três variáveis com maior importância\n",
    "for variable, importance in top_3_variables:\n",
    "    print(f\"Variável: {variable}, Importância: {importance}\")\n"
   ]
  },
  {
   "cell_type": "markdown",
   "metadata": {},
   "source": [
    "### 4. Construa uma árvore com as 3 melhores variáveis\n",
    "\n",
    "Utilizando as três variáveis encontradas acima, construa uma árvore de decisão. Encontre o melhor ```ccp_alpha``` utilizando a base de validação, conforme a estrutura que vimos em aula."
   ]
  },
  {
   "cell_type": "code",
   "execution_count": 21,
   "metadata": {},
   "outputs": [
    {
     "name": "stdout",
     "output_type": "stream",
     "text": [
      "Wall time: 1 ms\n"
     ]
    }
   ],
   "source": [
    "%%time\n",
    "# Selecionar as três melhores variáveis\n",
    "best_variables = ['41 tGravityAcc-mean()-X', '84 tBodyAccJerk-std()-X', '42 tGravityAcc-mean()-Y']\n",
    "X_train_best = X_train[best_variables]\n",
    "X_val_best = X_val[best_variables]\n"
   ]
  },
  {
   "cell_type": "code",
   "execution_count": 24,
   "metadata": {},
   "outputs": [],
   "source": [
    "# Encontrar o melhor ccp_alpha utilizando a base de validação\n",
    "ccp_alphas = DecisionTreeClassifier().cost_complexity_pruning_path(X_train_best, y_train)['ccp_alphas']\n",
    "ccp_alphas = ccp_alphas[1:]  # Remover o primeiro valor, pois corresponde à árvore sem poda\n"
   ]
  },
  {
   "cell_type": "code",
   "execution_count": 25,
   "metadata": {},
   "outputs": [
    {
     "name": "stdout",
     "output_type": "stream",
     "text": [
      "Melhor árvore com ccp_alpha = 9.067827348567283e-05\n",
      "Acurácia na base de validação = 0.8049311094996374\n"
     ]
    }
   ],
   "source": [
    "# Criar uma lista para armazenar as árvores\n",
    "trees = []\n",
    "\n",
    "# Treinar uma árvore para cada ccp_alpha e calcular a acurácia na base de validação\n",
    "best_accuracy = 0.0\n",
    "best_ccp_alpha = None\n",
    "\n",
    "for ccp_alpha in ccp_alphas:\n",
    "    # Criar a árvore de decisão com a profundidade máxima igual a 4 e ccp_alpha específico\n",
    "    clf = DecisionTreeClassifier(max_depth=4, ccp_alpha=ccp_alpha, random_state=42)\n",
    "    clf.fit(X_train_best, y_train)\n",
    "    trees.append(clf)\n",
    "    \n",
    "    # Calcular a acurácia na base de validação\n",
    "    y_val_pred = clf.predict(X_val_best)\n",
    "    accuracy = accuracy_score(y_val, y_val_pred)\n",
    "    \n",
    "    # Verificar se essa árvore é a melhor até o momento\n",
    "    if accuracy > best_accuracy:\n",
    "        best_accuracy = accuracy\n",
    "        best_ccp_alpha = ccp_alpha\n",
    "        best_tree = clf\n",
    "\n",
    "# Imprimir a melhor árvore encontrada\n",
    "print(\"Melhor árvore com ccp_alpha =\", best_ccp_alpha)\n",
    "print(\"Acurácia na base de validação =\", best_accuracy)"
   ]
  },
  {
   "cell_type": "markdown",
   "metadata": {},
   "source": [
    "### 5. Avaliação do modelo\n",
    "\n",
    "Avalie a árvore encontrada no item anterior na base de testes."
   ]
  },
  {
   "cell_type": "code",
   "execution_count": 27,
   "metadata": {},
   "outputs": [
    {
     "name": "stdout",
     "output_type": "stream",
     "text": [
      "Acurácia na base de testes = 0.6949440108585002\n"
     ]
    }
   ],
   "source": [
    "# Selecionar apenas as três melhores variáveis da base de testes\n",
    "X_test_best = X_test[['41 tGravityAcc-mean()-X', '84 tBodyAccJerk-std()-X', '42 tGravityAcc-mean()-Y']]\n",
    "\n",
    "# Avaliar a árvore encontrada na base de testes\n",
    "y_test_pred = best_tree.predict(X_test_best)\n",
    "test_accuracy = accuracy_score(y_test, y_test_pred)\n",
    "\n",
    "print(\"Acurácia na base de testes =\", test_accuracy)\n",
    "\n"
   ]
  },
  {
   "cell_type": "code",
   "execution_count": null,
   "metadata": {},
   "outputs": [],
   "source": []
  }
 ],
 "metadata": {
  "kernelspec": {
   "display_name": "Python 3",
   "language": "python",
   "name": "python3"
  },
  "language_info": {
   "codemirror_mode": {
    "name": "ipython",
    "version": 3
   },
   "file_extension": ".py",
   "mimetype": "text/x-python",
   "name": "python",
   "nbconvert_exporter": "python",
   "pygments_lexer": "ipython3",
   "version": "3.8.8"
  }
 },
 "nbformat": 4,
 "nbformat_minor": 4
}
