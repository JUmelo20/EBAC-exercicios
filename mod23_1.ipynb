{
 "cells": [
  {
   "cell_type": "markdown",
   "id": "a5f4f4f2-e862-4e62-86cb-0e30c6ffd126",
   "metadata": {},
   "source": [
    "## 1. Monte um passo a passo para o Bagging"
   ]
  },
  {
   "cell_type": "markdown",
   "id": "b7b53876-789c-452d-befb-b0430c5cbe74",
   "metadata": {},
   "source": [
    "Passo 1: Coletar um conjunto de dados de treinamento.\n",
    "\n",
    "Passo 2: Dividir o conjunto de dados de treinamento em várias amostras de bootstrap. Isso envolve amostrar aleatoriamente observações com substituição.\n",
    "\n",
    "Passo 3: Para cada amostra de bootstrap, treinar um modelo de aprendizado de máquina separado usando o conjunto de dados correspondente.\n",
    "\n",
    "Passo 4: Realizar a previsão usando cada modelo treinado em um conjunto de dados de teste ou validação.\n",
    "\n",
    "Passo 5: Agregar as previsões de todos os modelos. Isso pode ser feito por votação (no caso de classificação) ou média (no caso de regressão) das previsões dos modelos individuais.\n",
    "\n",
    "Passo 6: Avaliar o desempenho do modelo agregado usando métricas adequadas, como acurácia, precisão, recall ou erro médio quadrático."
   ]
  },
  {
   "cell_type": "markdown",
   "id": "30af624c-97ec-4b7f-9c1c-673d7cb14ff4",
   "metadata": {},
   "source": [
    "## 2. Explique com suas palavras o Bagging"
   ]
  },
  {
   "cell_type": "markdown",
   "id": "f8d1f903-797f-442f-87bf-7b57c989f2db",
   "metadata": {},
   "source": [
    "O Bagging (Bootstrap Aggregating) é uma técnica de aprendizado de máquina que envolve a combinação de vários modelos independentes para formar um modelo agregado mais robusto. Ele se baseia no princípio de bootstrap, que consiste em criar múltiplas amostras de treinamento a partir do conjunto de dados original por amostragem aleatória com substituição.\n",
    "\n",
    "Em vez de treinar um único modelo em todo o conjunto de dados de treinamento, o Bagging treina vários modelos em diferentes amostras de bootstrap. Cada modelo é treinado independentemente, o que permite capturar diferentes nuances e variações nos dados de treinamento.\n",
    "\n",
    "Após o treinamento, as previsões individuais de cada modelo são combinadas por meio de uma estratégia de agregação, como votação (no caso de problemas de classificação) ou média (no caso de problemas de regressão). Isso resulta em um modelo agregado final que tende a ter um desempenho melhor em relação a um único modelo.\n",
    "\n",
    "O Bagging é especialmente eficaz quando os modelos individuais são propensos a overfitting, ou seja, têm alta variância. Ao treinar modelos independentes em amostras de bootstrap, o Bagging reduz a variância geral do modelo agregado, resultando em uma maior estabilidade e melhor generalização para dados não vistos."
   ]
  },
  {
   "cell_type": "markdown",
   "id": "02095569-df22-46b6-bb03-068e14b2c7a3",
   "metadata": {},
   "source": [
    "## 3. Implementar em python o código do Bagging"
   ]
  },
  {
   "cell_type": "code",
   "execution_count": 3,
   "id": "a9ee3050-feac-4534-919c-7046953dd1b9",
   "metadata": {},
   "outputs": [
    {
     "name": "stdout",
     "output_type": "stream",
     "text": [
      "Accuracy: 1.0\n"
     ]
    }
   ],
   "source": [
    "import seaborn as sns\n",
    "from sklearn.ensemble import BaggingClassifier\n",
    "from sklearn.tree import DecisionTreeClassifier\n",
    "from sklearn.metrics import accuracy_score\n",
    "from sklearn.model_selection import train_test_split\n",
    "\n",
    "# Carregar a base de dados do seaborn\n",
    "data = sns.load_dataset('iris')\n",
    "\n",
    "# Separar as features e o alvo\n",
    "X = data.drop('species', axis=1)\n",
    "y = data['species']\n",
    "\n",
    "# Dividir os dados em conjunto de treinamento e teste\n",
    "X_train, X_test, y_train, y_test = train_test_split(X, y, test_size=0.2, random_state=42)\n",
    "\n",
    "# Criar o modelo base\n",
    "base_model = DecisionTreeClassifier()\n",
    "\n",
    "# Criar o modelo Bagging\n",
    "bagging_model = BaggingClassifier(base_estimator=base_model, n_estimators=10)\n",
    "\n",
    "# Treinar o modelo Bagging\n",
    "bagging_model.fit(X_train, y_train)\n",
    "\n",
    "# Fazer previsões no conjunto de teste\n",
    "y_pred = bagging_model.predict(X_test)\n",
    "\n",
    "# Calcular a acurácia\n",
    "accuracy = accuracy_score(y_test, y_pred)\n",
    "print(\"Accuracy:\", accuracy)\n",
    "\n"
   ]
  },
  {
   "cell_type": "code",
   "execution_count": null,
   "id": "44024007-5d7c-4d1a-8681-2760d7b8f13a",
   "metadata": {},
   "outputs": [],
   "source": []
  }
 ],
 "metadata": {
  "kernelspec": {
   "display_name": "Python 3",
   "language": "python",
   "name": "python3"
  },
  "language_info": {
   "codemirror_mode": {
    "name": "ipython",
    "version": 3
   },
   "file_extension": ".py",
   "mimetype": "text/x-python",
   "name": "python",
   "nbconvert_exporter": "python",
   "pygments_lexer": "ipython3",
   "version": "3.8.8"
  }
 },
 "nbformat": 4,
 "nbformat_minor": 5
}
