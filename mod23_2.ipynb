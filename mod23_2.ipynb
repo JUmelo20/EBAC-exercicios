{
 "cells": [
  {
   "cell_type": "markdown",
   "id": "f8101db9-89c4-4702-bd83-76950c5adcbf",
   "metadata": {},
   "source": [
    "## 1. Monte um passo a passo para o algoritmo RF"
   ]
  },
  {
   "cell_type": "markdown",
   "id": "f6634d7b-13f7-443c-aeda-97ea084edced",
   "metadata": {},
   "source": [
    "1. Carregar a base de dados.\n",
    "2. Separar as features e o alvo.\n",
    "3. Dividir os dados em conjunto de treinamento e teste.\n",
    "4. Criar um conjunto de árvores de decisão.\n",
    "5. Para cada árvore no conjunto:\n",
    "6. Amostrar aleatoriamente o conjunto de treinamento usando o método de bootstrap.\n",
    "7. Realizar uma seleção aleatória de features em cada divisão do nó da árvore.\n",
    "8. Treinar a árvore de decisão com os dados amostrados e as features selecionadas.\n",
    "9. Fazer previsões usando o conjunto de teste.\n",
    "10. Agregar as previsões das árvores para obter uma previsão final.\n",
    "11. Avaliar o desempenho do modelo usando métricas apropriadas."
   ]
  },
  {
   "cell_type": "markdown",
   "id": "aadc823d-377a-401c-ad22-17d0354296b5",
   "metadata": {},
   "source": [
    "## 2. Explique com suas palavras o Random forest"
   ]
  },
  {
   "cell_type": "markdown",
   "id": "4c149a82-5816-48a4-9e95-a62f1ab56b26",
   "metadata": {},
   "source": [
    "Random Forest é um algoritmo de aprendizado de máquina que combina a técnica de Bagging (amostragem de bootstrap) com o uso de árvores de decisão. O objetivo do Random Forest é criar um conjunto de árvores de decisão, onde cada árvore é treinada em uma amostra aleatória do conjunto de treinamento e utiliza uma seleção aleatória de features em cada divisão do nó. Em seguida, as previsões de todas as árvores são agregadas para obter uma previsão final mais robusta e geralmente mais precisa."
   ]
  },
  {
   "cell_type": "markdown",
   "id": "369f9d81-c7e4-4548-ab65-a98a24d5d55a",
   "metadata": {},
   "source": [
    "## 3. Qual a diferença entre Bagging e Random Forest?"
   ]
  },
  {
   "cell_type": "markdown",
   "id": "2057b960-7043-42c4-b6f9-c2469f9db06a",
   "metadata": {},
   "source": [
    "A diferença entre Bagging e Random Forest é que o Bagging é uma técnica de amostragem de bootstrap que pode ser aplicada a qualquer algoritmo de aprendizado de máquina, enquanto o Random Forest é um algoritmo específico que utiliza a técnica de Bagging em conjunto com árvores de decisão. O Random Forest também incorpora uma seleção aleatória de features em cada divisão do nó da árvore, o que o diferencia do Bagging tradicional."
   ]
  },
  {
   "cell_type": "markdown",
   "id": "b0366d70-e6a8-430a-aaee-dd2a57763f1b",
   "metadata": {},
   "source": [
    "## 4. Implementar em python o Random Forest"
   ]
  },
  {
   "cell_type": "code",
   "execution_count": 1,
   "id": "66c5b840-f8e8-484a-95c9-b1b1659c637f",
   "metadata": {},
   "outputs": [
    {
     "name": "stdout",
     "output_type": "stream",
     "text": [
      "Accuracy: 1.0\n"
     ]
    }
   ],
   "source": [
    "from sklearn.ensemble import RandomForestClassifier\n",
    "from sklearn.metrics import accuracy_score\n",
    "from sklearn.model_selection import train_test_split\n",
    "from sklearn.datasets import load_iris\n",
    "\n",
    "# Carregar a base de dados\n",
    "data = load_iris()\n",
    "\n",
    "# Separar as features e o alvo\n",
    "X = data.data\n",
    "y = data.target\n",
    "\n",
    "# Dividir os dados em conjunto de treinamento e teste\n",
    "X_train, X_test, y_train, y_test = train_test_split(X, y, test_size=0.2, random_state=42)\n",
    "\n",
    "# Criar o modelo Random Forest\n",
    "random_forest = RandomForestClassifier(n_estimators=100)\n",
    "\n",
    "# Treinar o modelo\n",
    "random_forest.fit(X_train, y_train)\n",
    "\n",
    "# Fazer previsões no conjunto de teste\n",
    "y_pred = random_forest.predict(X_test)\n",
    "\n",
    "# Calcular a acurácia\n",
    "accuracy = accuracy_score(y_test, y_pred)\n",
    "print(\"Accuracy:\", accuracy)\n"
   ]
  },
  {
   "cell_type": "code",
   "execution_count": null,
   "id": "27defb25-213f-4b45-8306-0572fa3b0524",
   "metadata": {},
   "outputs": [],
   "source": []
  }
 ],
 "metadata": {
  "kernelspec": {
   "display_name": "Python 3",
   "language": "python",
   "name": "python3"
  },
  "language_info": {
   "codemirror_mode": {
    "name": "ipython",
    "version": 3
   },
   "file_extension": ".py",
   "mimetype": "text/x-python",
   "name": "python",
   "nbconvert_exporter": "python",
   "pygments_lexer": "ipython3",
   "version": "3.8.8"
  }
 },
 "nbformat": 4,
 "nbformat_minor": 5
}
